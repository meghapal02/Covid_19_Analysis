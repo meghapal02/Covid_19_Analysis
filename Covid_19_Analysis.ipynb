{
 "cells": [
  {
   "cell_type": "code",
   "execution_count": 32,
   "id": "overhead-namibia",
   "metadata": {},
   "outputs": [],
   "source": [
    "import pandas as pd\n",
    "import numpy as np\n",
    "import seaborn as sns\n",
    "import matplotlib.pyplot as plt"
   ]
  },
  {
   "cell_type": "code",
   "execution_count": 33,
   "id": "copyrighted-accuracy",
   "metadata": {},
   "outputs": [],
   "source": [
    "data = pd.read_csv('covid_19_india.csv')"
   ]
  },
  {
   "cell_type": "code",
   "execution_count": 34,
   "id": "appointed-apparel",
   "metadata": {},
   "outputs": [
    {
     "data": {
      "text/html": [
       "<div>\n",
       "<style scoped>\n",
       "    .dataframe tbody tr th:only-of-type {\n",
       "        vertical-align: middle;\n",
       "    }\n",
       "\n",
       "    .dataframe tbody tr th {\n",
       "        vertical-align: top;\n",
       "    }\n",
       "\n",
       "    .dataframe thead th {\n",
       "        text-align: right;\n",
       "    }\n",
       "</style>\n",
       "<table border=\"1\" class=\"dataframe\">\n",
       "  <thead>\n",
       "    <tr style=\"text-align: right;\">\n",
       "      <th></th>\n",
       "      <th>Date</th>\n",
       "      <th>Time</th>\n",
       "      <th>State/UnionTerritory</th>\n",
       "      <th>ConfirmedIndianNational</th>\n",
       "      <th>ConfirmedForeignNational</th>\n",
       "      <th>Cured</th>\n",
       "      <th>Deaths</th>\n",
       "      <th>Confirmed</th>\n",
       "    </tr>\n",
       "  </thead>\n",
       "  <tbody>\n",
       "    <tr>\n",
       "      <th>0</th>\n",
       "      <td>26-03-2020</td>\n",
       "      <td>6:00 PM</td>\n",
       "      <td>Andaman &amp; Nicobar</td>\n",
       "      <td>1</td>\n",
       "      <td>0</td>\n",
       "      <td>0</td>\n",
       "      <td>0</td>\n",
       "      <td>1</td>\n",
       "    </tr>\n",
       "    <tr>\n",
       "      <th>1</th>\n",
       "      <td>27-03-2020</td>\n",
       "      <td>10:00 AM</td>\n",
       "      <td>Andaman &amp; Nicobar</td>\n",
       "      <td>1</td>\n",
       "      <td>0</td>\n",
       "      <td>0</td>\n",
       "      <td>0</td>\n",
       "      <td>1</td>\n",
       "    </tr>\n",
       "    <tr>\n",
       "      <th>2</th>\n",
       "      <td>28-03-2020</td>\n",
       "      <td>6:00 PM</td>\n",
       "      <td>Andaman &amp; Nicobar</td>\n",
       "      <td>6</td>\n",
       "      <td>0</td>\n",
       "      <td>0</td>\n",
       "      <td>0</td>\n",
       "      <td>6</td>\n",
       "    </tr>\n",
       "    <tr>\n",
       "      <th>3</th>\n",
       "      <td>29-03-2020</td>\n",
       "      <td>7:30 PM</td>\n",
       "      <td>Andaman &amp; Nicobar</td>\n",
       "      <td>-</td>\n",
       "      <td>-</td>\n",
       "      <td>0</td>\n",
       "      <td>0</td>\n",
       "      <td>9</td>\n",
       "    </tr>\n",
       "    <tr>\n",
       "      <th>4</th>\n",
       "      <td>30-03-2020</td>\n",
       "      <td>9:30 PM</td>\n",
       "      <td>Andaman &amp; Nicobar</td>\n",
       "      <td>-</td>\n",
       "      <td>-</td>\n",
       "      <td>0</td>\n",
       "      <td>0</td>\n",
       "      <td>9</td>\n",
       "    </tr>\n",
       "  </tbody>\n",
       "</table>\n",
       "</div>"
      ],
      "text/plain": [
       "         Date      Time State/UnionTerritory ConfirmedIndianNational  \\\n",
       "0  26-03-2020   6:00 PM    Andaman & Nicobar                       1   \n",
       "1  27-03-2020  10:00 AM    Andaman & Nicobar                       1   \n",
       "2  28-03-2020   6:00 PM    Andaman & Nicobar                       6   \n",
       "3  29-03-2020   7:30 PM    Andaman & Nicobar                       -   \n",
       "4  30-03-2020   9:30 PM    Andaman & Nicobar                       -   \n",
       "\n",
       "  ConfirmedForeignNational  Cured  Deaths  Confirmed  \n",
       "0                        0      0       0          1  \n",
       "1                        0      0       0          1  \n",
       "2                        0      0       0          6  \n",
       "3                        -      0       0          9  \n",
       "4                        -      0       0          9  "
      ]
     },
     "execution_count": 34,
     "metadata": {},
     "output_type": "execute_result"
    }
   ],
   "source": [
    "data.head()"
   ]
  },
  {
   "cell_type": "code",
   "execution_count": 35,
   "id": "through-rebel",
   "metadata": {},
   "outputs": [
    {
     "data": {
      "text/html": [
       "<div>\n",
       "<style scoped>\n",
       "    .dataframe tbody tr th:only-of-type {\n",
       "        vertical-align: middle;\n",
       "    }\n",
       "\n",
       "    .dataframe tbody tr th {\n",
       "        vertical-align: top;\n",
       "    }\n",
       "\n",
       "    .dataframe thead th {\n",
       "        text-align: right;\n",
       "    }\n",
       "</style>\n",
       "<table border=\"1\" class=\"dataframe\">\n",
       "  <thead>\n",
       "    <tr style=\"text-align: right;\">\n",
       "      <th></th>\n",
       "      <th>Date</th>\n",
       "      <th>Time</th>\n",
       "      <th>State/UnionTerritory</th>\n",
       "      <th>ConfirmedIndianNational</th>\n",
       "      <th>ConfirmedForeignNational</th>\n",
       "      <th>Cured</th>\n",
       "      <th>Deaths</th>\n",
       "      <th>Confirmed</th>\n",
       "    </tr>\n",
       "  </thead>\n",
       "  <tbody>\n",
       "    <tr>\n",
       "      <th>2517</th>\n",
       "      <td>07-08-2021</td>\n",
       "      <td>8:00 AM</td>\n",
       "      <td>Bihar</td>\n",
       "      <td>-</td>\n",
       "      <td>-</td>\n",
       "      <td>715119</td>\n",
       "      <td>9646</td>\n",
       "      <td>725122</td>\n",
       "    </tr>\n",
       "    <tr>\n",
       "      <th>2518</th>\n",
       "      <td>08-08-2021</td>\n",
       "      <td>8:00 AM</td>\n",
       "      <td>Bihar</td>\n",
       "      <td>-</td>\n",
       "      <td>-</td>\n",
       "      <td>715191</td>\n",
       "      <td>9646</td>\n",
       "      <td>725158</td>\n",
       "    </tr>\n",
       "    <tr>\n",
       "      <th>2519</th>\n",
       "      <td>09-08-2021</td>\n",
       "      <td>8:00 AM</td>\n",
       "      <td>Bihar</td>\n",
       "      <td>-</td>\n",
       "      <td>-</td>\n",
       "      <td>715236</td>\n",
       "      <td>9646</td>\n",
       "      <td>725192</td>\n",
       "    </tr>\n",
       "    <tr>\n",
       "      <th>2520</th>\n",
       "      <td>10-08-2021</td>\n",
       "      <td>8:00 AM</td>\n",
       "      <td>Bihar</td>\n",
       "      <td>-</td>\n",
       "      <td>-</td>\n",
       "      <td>715303</td>\n",
       "      <td>9646</td>\n",
       "      <td>725235</td>\n",
       "    </tr>\n",
       "    <tr>\n",
       "      <th>2521</th>\n",
       "      <td>11-08-2021</td>\n",
       "      <td>8:00 AM</td>\n",
       "      <td>Bihar</td>\n",
       "      <td>-</td>\n",
       "      <td>-</td>\n",
       "      <td>715352</td>\n",
       "      <td>9646</td>\n",
       "      <td>725279</td>\n",
       "    </tr>\n",
       "  </tbody>\n",
       "</table>\n",
       "</div>"
      ],
      "text/plain": [
       "            Date     Time State/UnionTerritory ConfirmedIndianNational  \\\n",
       "2517  07-08-2021  8:00 AM                Bihar                       -   \n",
       "2518  08-08-2021  8:00 AM                Bihar                       -   \n",
       "2519  09-08-2021  8:00 AM                Bihar                       -   \n",
       "2520  10-08-2021  8:00 AM                Bihar                       -   \n",
       "2521  11-08-2021  8:00 AM                Bihar                       -   \n",
       "\n",
       "     ConfirmedForeignNational   Cured  Deaths  Confirmed  \n",
       "2517                        -  715119    9646     725122  \n",
       "2518                        -  715191    9646     725158  \n",
       "2519                        -  715236    9646     725192  \n",
       "2520                        -  715303    9646     725235  \n",
       "2521                        -  715352    9646     725279  "
      ]
     },
     "execution_count": 35,
     "metadata": {},
     "output_type": "execute_result"
    }
   ],
   "source": [
    "data.tail()"
   ]
  },
  {
   "cell_type": "code",
   "execution_count": 36,
   "id": "suspended-cologne",
   "metadata": {},
   "outputs": [
    {
     "data": {
      "text/html": [
       "<div>\n",
       "<style scoped>\n",
       "    .dataframe tbody tr th:only-of-type {\n",
       "        vertical-align: middle;\n",
       "    }\n",
       "\n",
       "    .dataframe tbody tr th {\n",
       "        vertical-align: top;\n",
       "    }\n",
       "\n",
       "    .dataframe thead th {\n",
       "        text-align: right;\n",
       "    }\n",
       "</style>\n",
       "<table border=\"1\" class=\"dataframe\">\n",
       "  <thead>\n",
       "    <tr style=\"text-align: right;\">\n",
       "      <th></th>\n",
       "      <th>Cured</th>\n",
       "      <th>Deaths</th>\n",
       "      <th>Confirmed</th>\n",
       "    </tr>\n",
       "  </thead>\n",
       "  <tbody>\n",
       "    <tr>\n",
       "      <th>count</th>\n",
       "      <td>2.522000e+03</td>\n",
       "      <td>2522.000000</td>\n",
       "      <td>2.522000e+03</td>\n",
       "    </tr>\n",
       "    <tr>\n",
       "      <th>mean</th>\n",
       "      <td>2.365839e+05</td>\n",
       "      <td>1873.549167</td>\n",
       "      <td>2.512357e+05</td>\n",
       "    </tr>\n",
       "    <tr>\n",
       "      <th>std</th>\n",
       "      <td>3.961419e+05</td>\n",
       "      <td>3189.915582</td>\n",
       "      <td>4.141130e+05</td>\n",
       "    </tr>\n",
       "    <tr>\n",
       "      <th>min</th>\n",
       "      <td>0.000000e+00</td>\n",
       "      <td>0.000000</td>\n",
       "      <td>1.000000e+00</td>\n",
       "    </tr>\n",
       "    <tr>\n",
       "      <th>25%</th>\n",
       "      <td>3.783750e+03</td>\n",
       "      <td>44.000000</td>\n",
       "      <td>4.529250e+03</td>\n",
       "    </tr>\n",
       "    <tr>\n",
       "      <th>50%</th>\n",
       "      <td>1.748400e+04</td>\n",
       "      <td>129.000000</td>\n",
       "      <td>2.218250e+04</td>\n",
       "    </tr>\n",
       "    <tr>\n",
       "      <th>75%</th>\n",
       "      <td>2.576810e+05</td>\n",
       "      <td>1540.750000</td>\n",
       "      <td>2.621365e+05</td>\n",
       "    </tr>\n",
       "    <tr>\n",
       "      <th>max</th>\n",
       "      <td>1.952736e+06</td>\n",
       "      <td>13564.000000</td>\n",
       "      <td>1.985182e+06</td>\n",
       "    </tr>\n",
       "  </tbody>\n",
       "</table>\n",
       "</div>"
      ],
      "text/plain": [
       "              Cured        Deaths     Confirmed\n",
       "count  2.522000e+03   2522.000000  2.522000e+03\n",
       "mean   2.365839e+05   1873.549167  2.512357e+05\n",
       "std    3.961419e+05   3189.915582  4.141130e+05\n",
       "min    0.000000e+00      0.000000  1.000000e+00\n",
       "25%    3.783750e+03     44.000000  4.529250e+03\n",
       "50%    1.748400e+04    129.000000  2.218250e+04\n",
       "75%    2.576810e+05   1540.750000  2.621365e+05\n",
       "max    1.952736e+06  13564.000000  1.985182e+06"
      ]
     },
     "execution_count": 36,
     "metadata": {},
     "output_type": "execute_result"
    }
   ],
   "source": [
    "data.describe()"
   ]
  },
  {
   "cell_type": "code",
   "execution_count": 37,
   "id": "contrary-tenant",
   "metadata": {},
   "outputs": [
    {
     "data": {
      "text/plain": [
       "20176"
      ]
     },
     "execution_count": 37,
     "metadata": {},
     "output_type": "execute_result"
    }
   ],
   "source": [
    "data.size"
   ]
  },
  {
   "cell_type": "code",
   "execution_count": 38,
   "id": "english-specialist",
   "metadata": {},
   "outputs": [
    {
     "data": {
      "text/plain": [
       "(2522, 8)"
      ]
     },
     "execution_count": 38,
     "metadata": {},
     "output_type": "execute_result"
    }
   ],
   "source": [
    "data.shape"
   ]
  },
  {
   "cell_type": "code",
   "execution_count": 39,
   "id": "amateur-holmes",
   "metadata": {},
   "outputs": [
    {
     "data": {
      "text/plain": [
       "<bound method DataFrame.info of             Date      Time State/UnionTerritory ConfirmedIndianNational  \\\n",
       "0     26-03-2020   6:00 PM    Andaman & Nicobar                       1   \n",
       "1     27-03-2020  10:00 AM    Andaman & Nicobar                       1   \n",
       "2     28-03-2020   6:00 PM    Andaman & Nicobar                       6   \n",
       "3     29-03-2020   7:30 PM    Andaman & Nicobar                       -   \n",
       "4     30-03-2020   9:30 PM    Andaman & Nicobar                       -   \n",
       "...          ...       ...                  ...                     ...   \n",
       "2517  07-08-2021   8:00 AM                Bihar                       -   \n",
       "2518  08-08-2021   8:00 AM                Bihar                       -   \n",
       "2519  09-08-2021   8:00 AM                Bihar                       -   \n",
       "2520  10-08-2021   8:00 AM                Bihar                       -   \n",
       "2521  11-08-2021   8:00 AM                Bihar                       -   \n",
       "\n",
       "     ConfirmedForeignNational   Cured  Deaths  Confirmed  \n",
       "0                           0       0       0          1  \n",
       "1                           0       0       0          1  \n",
       "2                           0       0       0          6  \n",
       "3                           -       0       0          9  \n",
       "4                           -       0       0          9  \n",
       "...                       ...     ...     ...        ...  \n",
       "2517                        -  715119    9646     725122  \n",
       "2518                        -  715191    9646     725158  \n",
       "2519                        -  715236    9646     725192  \n",
       "2520                        -  715303    9646     725235  \n",
       "2521                        -  715352    9646     725279  \n",
       "\n",
       "[2522 rows x 8 columns]>"
      ]
     },
     "execution_count": 39,
     "metadata": {},
     "output_type": "execute_result"
    }
   ],
   "source": [
    "data.info"
   ]
  },
  {
   "cell_type": "code",
   "execution_count": 40,
   "id": "closed-reservoir",
   "metadata": {},
   "outputs": [
    {
     "data": {
      "text/html": [
       "<div>\n",
       "<style scoped>\n",
       "    .dataframe tbody tr th:only-of-type {\n",
       "        vertical-align: middle;\n",
       "    }\n",
       "\n",
       "    .dataframe tbody tr th {\n",
       "        vertical-align: top;\n",
       "    }\n",
       "\n",
       "    .dataframe thead th {\n",
       "        text-align: right;\n",
       "    }\n",
       "</style>\n",
       "<table border=\"1\" class=\"dataframe\">\n",
       "  <thead>\n",
       "    <tr style=\"text-align: right;\">\n",
       "      <th></th>\n",
       "      <th>Cured</th>\n",
       "      <th>Deaths</th>\n",
       "      <th>Confirmed</th>\n",
       "    </tr>\n",
       "  </thead>\n",
       "  <tbody>\n",
       "    <tr>\n",
       "      <th>count</th>\n",
       "      <td>2.522000e+03</td>\n",
       "      <td>2522.000000</td>\n",
       "      <td>2.522000e+03</td>\n",
       "    </tr>\n",
       "    <tr>\n",
       "      <th>mean</th>\n",
       "      <td>2.365839e+05</td>\n",
       "      <td>1873.549167</td>\n",
       "      <td>2.512357e+05</td>\n",
       "    </tr>\n",
       "    <tr>\n",
       "      <th>std</th>\n",
       "      <td>3.961419e+05</td>\n",
       "      <td>3189.915582</td>\n",
       "      <td>4.141130e+05</td>\n",
       "    </tr>\n",
       "    <tr>\n",
       "      <th>min</th>\n",
       "      <td>0.000000e+00</td>\n",
       "      <td>0.000000</td>\n",
       "      <td>1.000000e+00</td>\n",
       "    </tr>\n",
       "    <tr>\n",
       "      <th>25%</th>\n",
       "      <td>3.783750e+03</td>\n",
       "      <td>44.000000</td>\n",
       "      <td>4.529250e+03</td>\n",
       "    </tr>\n",
       "    <tr>\n",
       "      <th>50%</th>\n",
       "      <td>1.748400e+04</td>\n",
       "      <td>129.000000</td>\n",
       "      <td>2.218250e+04</td>\n",
       "    </tr>\n",
       "    <tr>\n",
       "      <th>75%</th>\n",
       "      <td>2.576810e+05</td>\n",
       "      <td>1540.750000</td>\n",
       "      <td>2.621365e+05</td>\n",
       "    </tr>\n",
       "    <tr>\n",
       "      <th>max</th>\n",
       "      <td>1.952736e+06</td>\n",
       "      <td>13564.000000</td>\n",
       "      <td>1.985182e+06</td>\n",
       "    </tr>\n",
       "  </tbody>\n",
       "</table>\n",
       "</div>"
      ],
      "text/plain": [
       "              Cured        Deaths     Confirmed\n",
       "count  2.522000e+03   2522.000000  2.522000e+03\n",
       "mean   2.365839e+05   1873.549167  2.512357e+05\n",
       "std    3.961419e+05   3189.915582  4.141130e+05\n",
       "min    0.000000e+00      0.000000  1.000000e+00\n",
       "25%    3.783750e+03     44.000000  4.529250e+03\n",
       "50%    1.748400e+04    129.000000  2.218250e+04\n",
       "75%    2.576810e+05   1540.750000  2.621365e+05\n",
       "max    1.952736e+06  13564.000000  1.985182e+06"
      ]
     },
     "execution_count": 40,
     "metadata": {},
     "output_type": "execute_result"
    }
   ],
   "source": [
    "data.describe()"
   ]
  },
  {
   "cell_type": "code",
   "execution_count": 41,
   "id": "revolutionary-hopkins",
   "metadata": {},
   "outputs": [
    {
     "data": {
      "text/plain": [
       "Date                        0\n",
       "Time                        0\n",
       "State/UnionTerritory        0\n",
       "ConfirmedIndianNational     0\n",
       "ConfirmedForeignNational    0\n",
       "Cured                       0\n",
       "Deaths                      0\n",
       "Confirmed                   0\n",
       "dtype: int64"
      ]
     },
     "execution_count": 41,
     "metadata": {},
     "output_type": "execute_result"
    }
   ],
   "source": [
    "data.isnull().sum()"
   ]
  },
  {
   "cell_type": "code",
   "execution_count": 42,
   "id": "hybrid-credit",
   "metadata": {},
   "outputs": [
    {
     "data": {
      "text/plain": [
       "Date                        0\n",
       "Time                        0\n",
       "State/UnionTerritory        0\n",
       "ConfirmedIndianNational     0\n",
       "ConfirmedForeignNational    0\n",
       "Cured                       0\n",
       "Deaths                      0\n",
       "Confirmed                   0\n",
       "dtype: int64"
      ]
     },
     "execution_count": 42,
     "metadata": {},
     "output_type": "execute_result"
    }
   ],
   "source": [
    "data.isna().sum()"
   ]
  },
  {
   "cell_type": "code",
   "execution_count": 43,
   "id": "starting-basin",
   "metadata": {},
   "outputs": [
    {
     "data": {
      "text/html": [
       "<div>\n",
       "<style scoped>\n",
       "    .dataframe tbody tr th:only-of-type {\n",
       "        vertical-align: middle;\n",
       "    }\n",
       "\n",
       "    .dataframe tbody tr th {\n",
       "        vertical-align: top;\n",
       "    }\n",
       "\n",
       "    .dataframe thead th {\n",
       "        text-align: right;\n",
       "    }\n",
       "</style>\n",
       "<table border=\"1\" class=\"dataframe\">\n",
       "  <thead>\n",
       "    <tr style=\"text-align: right;\">\n",
       "      <th></th>\n",
       "      <th>Date</th>\n",
       "      <th>Time</th>\n",
       "      <th>State/UnionTerritory</th>\n",
       "      <th>ConfirmedIndianNational</th>\n",
       "      <th>ConfirmedForeignNational</th>\n",
       "      <th>Cured</th>\n",
       "      <th>Deaths</th>\n",
       "      <th>Confirmed</th>\n",
       "    </tr>\n",
       "  </thead>\n",
       "  <tbody>\n",
       "    <tr>\n",
       "      <th>0</th>\n",
       "      <td>False</td>\n",
       "      <td>False</td>\n",
       "      <td>False</td>\n",
       "      <td>False</td>\n",
       "      <td>False</td>\n",
       "      <td>False</td>\n",
       "      <td>False</td>\n",
       "      <td>False</td>\n",
       "    </tr>\n",
       "    <tr>\n",
       "      <th>1</th>\n",
       "      <td>False</td>\n",
       "      <td>False</td>\n",
       "      <td>False</td>\n",
       "      <td>False</td>\n",
       "      <td>False</td>\n",
       "      <td>False</td>\n",
       "      <td>False</td>\n",
       "      <td>False</td>\n",
       "    </tr>\n",
       "    <tr>\n",
       "      <th>2</th>\n",
       "      <td>False</td>\n",
       "      <td>False</td>\n",
       "      <td>False</td>\n",
       "      <td>False</td>\n",
       "      <td>False</td>\n",
       "      <td>False</td>\n",
       "      <td>False</td>\n",
       "      <td>False</td>\n",
       "    </tr>\n",
       "    <tr>\n",
       "      <th>3</th>\n",
       "      <td>False</td>\n",
       "      <td>False</td>\n",
       "      <td>False</td>\n",
       "      <td>False</td>\n",
       "      <td>False</td>\n",
       "      <td>False</td>\n",
       "      <td>False</td>\n",
       "      <td>False</td>\n",
       "    </tr>\n",
       "    <tr>\n",
       "      <th>4</th>\n",
       "      <td>False</td>\n",
       "      <td>False</td>\n",
       "      <td>False</td>\n",
       "      <td>False</td>\n",
       "      <td>False</td>\n",
       "      <td>False</td>\n",
       "      <td>False</td>\n",
       "      <td>False</td>\n",
       "    </tr>\n",
       "    <tr>\n",
       "      <th>...</th>\n",
       "      <td>...</td>\n",
       "      <td>...</td>\n",
       "      <td>...</td>\n",
       "      <td>...</td>\n",
       "      <td>...</td>\n",
       "      <td>...</td>\n",
       "      <td>...</td>\n",
       "      <td>...</td>\n",
       "    </tr>\n",
       "    <tr>\n",
       "      <th>2517</th>\n",
       "      <td>False</td>\n",
       "      <td>False</td>\n",
       "      <td>False</td>\n",
       "      <td>False</td>\n",
       "      <td>False</td>\n",
       "      <td>False</td>\n",
       "      <td>False</td>\n",
       "      <td>False</td>\n",
       "    </tr>\n",
       "    <tr>\n",
       "      <th>2518</th>\n",
       "      <td>False</td>\n",
       "      <td>False</td>\n",
       "      <td>False</td>\n",
       "      <td>False</td>\n",
       "      <td>False</td>\n",
       "      <td>False</td>\n",
       "      <td>False</td>\n",
       "      <td>False</td>\n",
       "    </tr>\n",
       "    <tr>\n",
       "      <th>2519</th>\n",
       "      <td>False</td>\n",
       "      <td>False</td>\n",
       "      <td>False</td>\n",
       "      <td>False</td>\n",
       "      <td>False</td>\n",
       "      <td>False</td>\n",
       "      <td>False</td>\n",
       "      <td>False</td>\n",
       "    </tr>\n",
       "    <tr>\n",
       "      <th>2520</th>\n",
       "      <td>False</td>\n",
       "      <td>False</td>\n",
       "      <td>False</td>\n",
       "      <td>False</td>\n",
       "      <td>False</td>\n",
       "      <td>False</td>\n",
       "      <td>False</td>\n",
       "      <td>False</td>\n",
       "    </tr>\n",
       "    <tr>\n",
       "      <th>2521</th>\n",
       "      <td>False</td>\n",
       "      <td>False</td>\n",
       "      <td>False</td>\n",
       "      <td>False</td>\n",
       "      <td>False</td>\n",
       "      <td>False</td>\n",
       "      <td>False</td>\n",
       "      <td>False</td>\n",
       "    </tr>\n",
       "  </tbody>\n",
       "</table>\n",
       "<p>2522 rows × 8 columns</p>\n",
       "</div>"
      ],
      "text/plain": [
       "       Date   Time  State/UnionTerritory  ConfirmedIndianNational  \\\n",
       "0     False  False                 False                    False   \n",
       "1     False  False                 False                    False   \n",
       "2     False  False                 False                    False   \n",
       "3     False  False                 False                    False   \n",
       "4     False  False                 False                    False   \n",
       "...     ...    ...                   ...                      ...   \n",
       "2517  False  False                 False                    False   \n",
       "2518  False  False                 False                    False   \n",
       "2519  False  False                 False                    False   \n",
       "2520  False  False                 False                    False   \n",
       "2521  False  False                 False                    False   \n",
       "\n",
       "      ConfirmedForeignNational  Cured  Deaths  Confirmed  \n",
       "0                        False  False   False      False  \n",
       "1                        False  False   False      False  \n",
       "2                        False  False   False      False  \n",
       "3                        False  False   False      False  \n",
       "4                        False  False   False      False  \n",
       "...                        ...    ...     ...        ...  \n",
       "2517                     False  False   False      False  \n",
       "2518                     False  False   False      False  \n",
       "2519                     False  False   False      False  \n",
       "2520                     False  False   False      False  \n",
       "2521                     False  False   False      False  \n",
       "\n",
       "[2522 rows x 8 columns]"
      ]
     },
     "execution_count": 43,
     "metadata": {},
     "output_type": "execute_result"
    }
   ],
   "source": [
    "data.isnull()"
   ]
  },
  {
   "cell_type": "code",
   "execution_count": 44,
   "id": "sitting-alias",
   "metadata": {},
   "outputs": [
    {
     "data": {
      "text/plain": [
       "Index(['Date', 'Time', 'State/UnionTerritory', 'ConfirmedIndianNational',\n",
       "       'ConfirmedForeignNational', 'Cured', 'Deaths', 'Confirmed'],\n",
       "      dtype='object')"
      ]
     },
     "execution_count": 44,
     "metadata": {},
     "output_type": "execute_result"
    }
   ],
   "source": [
    "data.columns"
   ]
  },
  {
   "cell_type": "code",
   "execution_count": 66,
   "id": "agreed-encounter",
   "metadata": {},
   "outputs": [
    {
     "data": {
      "text/html": [
       "<div>\n",
       "<style scoped>\n",
       "    .dataframe tbody tr th:only-of-type {\n",
       "        vertical-align: middle;\n",
       "    }\n",
       "\n",
       "    .dataframe tbody tr th {\n",
       "        vertical-align: top;\n",
       "    }\n",
       "\n",
       "    .dataframe thead th {\n",
       "        text-align: right;\n",
       "    }\n",
       "</style>\n",
       "<table border=\"1\" class=\"dataframe\">\n",
       "  <thead>\n",
       "    <tr style=\"text-align: right;\">\n",
       "      <th></th>\n",
       "      <th>Cured</th>\n",
       "      <th>Deaths</th>\n",
       "      <th>Confirmed</th>\n",
       "    </tr>\n",
       "  </thead>\n",
       "  <tbody>\n",
       "    <tr>\n",
       "      <th>Cured</th>\n",
       "      <td>1.000000</td>\n",
       "      <td>0.970203</td>\n",
       "      <td>0.998084</td>\n",
       "    </tr>\n",
       "    <tr>\n",
       "      <th>Deaths</th>\n",
       "      <td>0.970203</td>\n",
       "      <td>1.000000</td>\n",
       "      <td>0.968756</td>\n",
       "    </tr>\n",
       "    <tr>\n",
       "      <th>Confirmed</th>\n",
       "      <td>0.998084</td>\n",
       "      <td>0.968756</td>\n",
       "      <td>1.000000</td>\n",
       "    </tr>\n",
       "  </tbody>\n",
       "</table>\n",
       "</div>"
      ],
      "text/plain": [
       "              Cured    Deaths  Confirmed\n",
       "Cured      1.000000  0.970203   0.998084\n",
       "Deaths     0.970203  1.000000   0.968756\n",
       "Confirmed  0.998084  0.968756   1.000000"
      ]
     },
     "execution_count": 66,
     "metadata": {},
     "output_type": "execute_result"
    }
   ],
   "source": [
    "data.corr()"
   ]
  },
  {
   "cell_type": "code",
   "execution_count": 67,
   "id": "atlantic-memorial",
   "metadata": {},
   "outputs": [
    {
     "data": {
      "text/html": [
       "<div>\n",
       "<style scoped>\n",
       "    .dataframe tbody tr th:only-of-type {\n",
       "        vertical-align: middle;\n",
       "    }\n",
       "\n",
       "    .dataframe tbody tr th {\n",
       "        vertical-align: top;\n",
       "    }\n",
       "\n",
       "    .dataframe thead th {\n",
       "        text-align: right;\n",
       "    }\n",
       "</style>\n",
       "<table border=\"1\" class=\"dataframe\">\n",
       "  <thead>\n",
       "    <tr style=\"text-align: right;\">\n",
       "      <th></th>\n",
       "      <th>Date</th>\n",
       "      <th>Time</th>\n",
       "      <th>State/UnionTerritory</th>\n",
       "      <th>ConfirmedIndianNational</th>\n",
       "      <th>ConfirmedForeignNational</th>\n",
       "      <th>Cured</th>\n",
       "      <th>Deaths</th>\n",
       "      <th>Confirmed</th>\n",
       "    </tr>\n",
       "  </thead>\n",
       "  <tbody>\n",
       "    <tr>\n",
       "      <th>0</th>\n",
       "      <td>2081.0</td>\n",
       "      <td>170.0</td>\n",
       "      <td>252.5</td>\n",
       "      <td>2500.0</td>\n",
       "      <td>2509.0</td>\n",
       "      <td>42.5</td>\n",
       "      <td>120.0</td>\n",
       "      <td>32.0</td>\n",
       "    </tr>\n",
       "    <tr>\n",
       "      <th>1</th>\n",
       "      <td>2164.0</td>\n",
       "      <td>2.0</td>\n",
       "      <td>252.5</td>\n",
       "      <td>2500.0</td>\n",
       "      <td>2509.0</td>\n",
       "      <td>42.5</td>\n",
       "      <td>120.0</td>\n",
       "      <td>32.0</td>\n",
       "    </tr>\n",
       "    <tr>\n",
       "      <th>2</th>\n",
       "      <td>2247.0</td>\n",
       "      <td>170.0</td>\n",
       "      <td>252.5</td>\n",
       "      <td>2517.0</td>\n",
       "      <td>2509.0</td>\n",
       "      <td>42.5</td>\n",
       "      <td>120.0</td>\n",
       "      <td>81.0</td>\n",
       "    </tr>\n",
       "    <tr>\n",
       "      <th>3</th>\n",
       "      <td>2325.0</td>\n",
       "      <td>200.0</td>\n",
       "      <td>252.5</td>\n",
       "      <td>1248.0</td>\n",
       "      <td>1248.0</td>\n",
       "      <td>42.5</td>\n",
       "      <td>120.0</td>\n",
       "      <td>86.5</td>\n",
       "    </tr>\n",
       "    <tr>\n",
       "      <th>4</th>\n",
       "      <td>2403.0</td>\n",
       "      <td>2521.0</td>\n",
       "      <td>252.5</td>\n",
       "      <td>1248.0</td>\n",
       "      <td>1248.0</td>\n",
       "      <td>42.5</td>\n",
       "      <td>120.0</td>\n",
       "      <td>86.5</td>\n",
       "    </tr>\n",
       "    <tr>\n",
       "      <th>...</th>\n",
       "      <td>...</td>\n",
       "      <td>...</td>\n",
       "      <td>...</td>\n",
       "      <td>...</td>\n",
       "      <td>...</td>\n",
       "      <td>...</td>\n",
       "      <td>...</td>\n",
       "      <td>...</td>\n",
       "    </tr>\n",
       "    <tr>\n",
       "      <th>2517</th>\n",
       "      <td>571.0</td>\n",
       "      <td>1360.0</td>\n",
       "      <td>2269.5</td>\n",
       "      <td>1248.0</td>\n",
       "      <td>1248.0</td>\n",
       "      <td>2217.0</td>\n",
       "      <td>2435.0</td>\n",
       "      <td>2209.0</td>\n",
       "    </tr>\n",
       "    <tr>\n",
       "      <th>2518</th>\n",
       "      <td>656.0</td>\n",
       "      <td>1360.0</td>\n",
       "      <td>2269.5</td>\n",
       "      <td>1248.0</td>\n",
       "      <td>1248.0</td>\n",
       "      <td>2218.0</td>\n",
       "      <td>2435.0</td>\n",
       "      <td>2210.0</td>\n",
       "    </tr>\n",
       "    <tr>\n",
       "      <th>2519</th>\n",
       "      <td>741.0</td>\n",
       "      <td>1360.0</td>\n",
       "      <td>2269.5</td>\n",
       "      <td>1248.0</td>\n",
       "      <td>1248.0</td>\n",
       "      <td>2219.0</td>\n",
       "      <td>2435.0</td>\n",
       "      <td>2211.0</td>\n",
       "    </tr>\n",
       "    <tr>\n",
       "      <th>2520</th>\n",
       "      <td>825.0</td>\n",
       "      <td>1360.0</td>\n",
       "      <td>2269.5</td>\n",
       "      <td>1248.0</td>\n",
       "      <td>1248.0</td>\n",
       "      <td>2220.0</td>\n",
       "      <td>2435.0</td>\n",
       "      <td>2212.0</td>\n",
       "    </tr>\n",
       "    <tr>\n",
       "      <th>2521</th>\n",
       "      <td>909.0</td>\n",
       "      <td>1360.0</td>\n",
       "      <td>2269.5</td>\n",
       "      <td>1248.0</td>\n",
       "      <td>1248.0</td>\n",
       "      <td>2221.0</td>\n",
       "      <td>2435.0</td>\n",
       "      <td>2213.0</td>\n",
       "    </tr>\n",
       "  </tbody>\n",
       "</table>\n",
       "<p>2522 rows × 8 columns</p>\n",
       "</div>"
      ],
      "text/plain": [
       "        Date    Time  State/UnionTerritory  ConfirmedIndianNational  \\\n",
       "0     2081.0   170.0                 252.5                   2500.0   \n",
       "1     2164.0     2.0                 252.5                   2500.0   \n",
       "2     2247.0   170.0                 252.5                   2517.0   \n",
       "3     2325.0   200.0                 252.5                   1248.0   \n",
       "4     2403.0  2521.0                 252.5                   1248.0   \n",
       "...      ...     ...                   ...                      ...   \n",
       "2517   571.0  1360.0                2269.5                   1248.0   \n",
       "2518   656.0  1360.0                2269.5                   1248.0   \n",
       "2519   741.0  1360.0                2269.5                   1248.0   \n",
       "2520   825.0  1360.0                2269.5                   1248.0   \n",
       "2521   909.0  1360.0                2269.5                   1248.0   \n",
       "\n",
       "      ConfirmedForeignNational   Cured  Deaths  Confirmed  \n",
       "0                       2509.0    42.5   120.0       32.0  \n",
       "1                       2509.0    42.5   120.0       32.0  \n",
       "2                       2509.0    42.5   120.0       81.0  \n",
       "3                       1248.0    42.5   120.0       86.5  \n",
       "4                       1248.0    42.5   120.0       86.5  \n",
       "...                        ...     ...     ...        ...  \n",
       "2517                    1248.0  2217.0  2435.0     2209.0  \n",
       "2518                    1248.0  2218.0  2435.0     2210.0  \n",
       "2519                    1248.0  2219.0  2435.0     2211.0  \n",
       "2520                    1248.0  2220.0  2435.0     2212.0  \n",
       "2521                    1248.0  2221.0  2435.0     2213.0  \n",
       "\n",
       "[2522 rows x 8 columns]"
      ]
     },
     "execution_count": 67,
     "metadata": {},
     "output_type": "execute_result"
    }
   ],
   "source": [
    "data.rank()"
   ]
  },
  {
   "cell_type": "code",
   "execution_count": 45,
   "id": "further-permit",
   "metadata": {},
   "outputs": [
    {
     "data": {
      "text/plain": [
       "array([[<AxesSubplot:title={'center':'Cured'}>,\n",
       "        <AxesSubplot:title={'center':'Deaths'}>],\n",
       "       [<AxesSubplot:title={'center':'Confirmed'}>, <AxesSubplot:>]],\n",
       "      dtype=object)"
      ]
     },
     "execution_count": 45,
     "metadata": {},
     "output_type": "execute_result"
    },
    {
     "data": {
      "image/png": "[encoded data removed]",
      "text/plain": [
       "<Figure size 432x288 with 4 Axes>"
      ]
     },
     "metadata": {
      "needs_background": "light"
     },
     "output_type": "display_data"
    }
   ],
   "source": [
    "data.hist()"
   ]
  },
  {
   "cell_type": "code",
   "execution_count": 49,
   "id": "growing-buyer",
   "metadata": {},
   "outputs": [
    {
     "data": {
      "text/plain": [
       "<BarContainer object of 2522 artists>"
      ]
     },
     "execution_count": 49,
     "metadata": {},
     "output_type": "execute_result"
    },
    {
     "data": {
      "image/png": "[encoded data removed]",
      "text/plain": [
       "<Figure size 432x288 with 1 Axes>"
      ]
     },
     "metadata": {
      "needs_background": "light"
     },
     "output_type": "display_data"
    }
   ],
   "source": [
    "plt.bar(data['State/UnionTerritory'], data['Deaths'])"
   ]
  },
  {
   "cell_type": "code",
   "execution_count": 81,
   "id": "generic-character",
   "metadata": {},
   "outputs": [
    {
     "data": {
      "text/plain": [
       "<BarContainer object of 2522 artists>"
      ]
     },
     "execution_count": 81,
     "metadata": {},
     "output_type": "execute_result"
    },
    {
     "data": {
      "image/png": "[encoded data removed]",
      "text/plain": [
       "<Figure size 432x288 with 1 Axes>"
      ]
     },
     "metadata": {
      "needs_background": "light"
     },
     "output_type": "display_data"
    }
   ],
   "source": [
    "plt.bar(data['State/UnionTerritory'], data['Confirmed'])"
   ]
  },
  {
   "cell_type": "code",
   "execution_count": 83,
   "id": "advance-significance",
   "metadata": {},
   "outputs": [
    {
     "data": {
      "text/plain": [
       "<AxesSubplot:xlabel='Date', ylabel='Deaths'>"
      ]
     },
     "execution_count": 83,
     "metadata": {},
     "output_type": "execute_result"
    },
    {
     "data": {
      "image/png": "[encoded data removed]",
      "text/plain": [
       "<Figure size 432x288 with 1 Axes>"
      ]
     },
     "metadata": {
      "needs_background": "light"
     },
     "output_type": "display_data"
    }
   ],
   "source": [
    "sns.scatterplot(x=data['Date'],  y=data['Deaths'] , data = data , hue = data['State/UnionTerritory'])"
   ]
  },
  {
   "cell_type": "code",
   "execution_count": 79,
   "id": "hispanic-thinking",
   "metadata": {},
   "outputs": [
    {
     "data": {
      "text/plain": [
       "<seaborn.axisgrid.PairGrid at 0x291a9fd0>"
      ]
     },
     "execution_count": 79,
     "metadata": {},
     "output_type": "execute_result"
    },
    {
     "data": {
      "image/png": "[encoded data removed]",
      "text/plain": [
       "<Figure size 540x540 with 12 Axes>"
      ]
     },
     "metadata": {
      "needs_background": "light"
     },
     "output_type": "display_data"
    }
   ],
   "source": [
    "sns.pairplot(data)"
   ]
  },
  {
   "cell_type": "code",
   "execution_count": 52,
   "id": "suspected-release",
   "metadata": {},
   "outputs": [
    {
     "data": {
      "text/plain": [
       "{'whiskers': [<matplotlib.lines.Line2D at 0x18c6f790>,\n",
       "  <matplotlib.lines.Line2D at 0x18c6f1c0>],\n",
       " 'caps': [<matplotlib.lines.Line2D at 0x18c6fd60>,\n",
       "  <matplotlib.lines.Line2D at 0x18c818c8>],\n",
       " 'boxes': [<matplotlib.lines.Line2D at 0x18c6fd18>],\n",
       " 'medians': [<matplotlib.lines.Line2D at 0x18c81478>],\n",
       " 'fliers': [<matplotlib.lines.Line2D at 0x18c81f70>],\n",
       " 'means': []}"
      ]
     },
     "execution_count": 52,
     "metadata": {},
     "output_type": "execute_result"
    },
    {
     "data": {
      "image/png": "[encoded data removed]",
      "text/plain": [
       "<Figure size 432x288 with 1 Axes>"
      ]
     },
     "metadata": {
      "needs_background": "light"
     },
     "output_type": "display_data"
    }
   ],
   "source": [
    "plt.boxplot(data['Confirmed'])"
   ]
  },
  {
   "cell_type": "code",
   "execution_count": 70,
   "id": "arbitrary-apartment",
   "metadata": {},
   "outputs": [
    {
     "data": {
      "text/plain": [
       "<AxesSubplot:xlabel='Confirmed', ylabel='count'>"
      ]
     },
     "execution_count": 70,
     "metadata": {},
     "output_type": "execute_result"
    },
    {
     "data": {
      "image/png": "[encoded data removed]",
      "text/plain": [
       "<Figure size 432x288 with 1 Axes>"
      ]
     },
     "metadata": {
      "needs_background": "light"
     },
     "output_type": "display_data"
    }
   ],
   "source": [
    "sns.countplot(x='Confirmed', hue = 'State/UnionTerritory', data = data, palette = 'Set1')"
   ]
  },
  {
   "cell_type": "code",
   "execution_count": 71,
   "id": "static-sociology",
   "metadata": {
    "scrolled": true
   },
   "outputs": [
    {
     "data": {
      "text/plain": [
       "[<matplotlib.lines.Line2D at 0x1cd2e0b8>]"
      ]
     },
     "execution_count": 71,
     "metadata": {},
     "output_type": "execute_result"
    },
    {
     "data": {
      "image/png": "[encoded data removed]",
      "text/plain": [
       "<Figure size 432x288 with 1 Axes>"
      ]
     },
     "metadata": {
      "needs_background": "light"
     },
     "output_type": "display_data"
    }
   ],
   "source": [
    "fig = plt.figure()\n",
    "myaxes = fig.add_axes([0.1, 0.1, 1.6, 1.6])\n",
    "myaxes.plot(data['Date'], data['Confirmed'])"
   ]
  },
  {
   "cell_type": "code",
   "execution_count": 80,
   "id": "considered-algebra",
   "metadata": {},
   "outputs": [
    {
     "data": {
      "text/plain": [
       "<AxesSubplot:>"
      ]
     },
     "execution_count": 80,
     "metadata": {},
     "output_type": "execute_result"
    },
    {
     "data": {
      "image/png": "[encoded data removed]",
      "text/plain": [
       "<Figure size 432x288 with 2 Axes>"
      ]
     },
     "metadata": {
      "needs_background": "light"
     },
     "output_type": "display_data"
    }
   ],
   "source": [
    "corr = data.corr()\n",
    "sns.heatmap(corr)"
   ]
  },
  {
   "cell_type": "code",
   "execution_count": null,
   "id": "permanent-sector",
   "metadata": {},
   "outputs": [],
   "source": []
  }
 ],
 "metadata": {
  "kernelspec": {
   "display_name": "Python 3",
   "language": "python",
   "name": "python3"
  },
  "language_info": {
   "codemirror_mode": {
    "name": "ipython",
    "version": 3
   },
   "file_extension": ".py",
   "mimetype": "text/x-python",
   "name": "python",
   "nbconvert_exporter": "python",
   "pygments_lexer": "ipython3",
   "version": "3.8.5"
  }
 },
 "nbformat": 4,
 "nbformat_minor": 5
}
